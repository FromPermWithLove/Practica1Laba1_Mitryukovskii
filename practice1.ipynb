{
 "cells": [
  {
   "cell_type": "code",
   "execution_count": 18,
   "id": "b15a6c63-22f9-4c59-91b8-a84f5593ddbf",
   "metadata": {},
   "outputs": [
    {
     "name": "stdout",
     "output_type": "stream",
     "text": [
      "[74, 91, 19, 60, 28, 68, 21, 56, 0, 2]\n",
      "[2, 0, 56, 21, 68, 28, 60, 19, 91, 74]\n"
     ]
    }
   ],
   "source": [
    "import random\n",
    "\n",
    "array = []\n",
    "for i in range(0,10):\n",
    "    randomInt = random.randint(0,100)\n",
    "    array.append(randomInt)\n",
    "print(array)\n",
    "rev_array = array[::-1]\n",
    "print(rev_array)"
   ]
  },
  {
   "cell_type": "code",
   "execution_count": 30,
   "id": "33c09a61-f32c-49df-873e-3cd555f31b8a",
   "metadata": {},
   "outputs": [
    {
     "name": "stdout",
     "output_type": "stream",
     "text": [
      "[71, 2, 38, 29, 78, 65, 98, 27, 45, 52] [22, 51, 58, 71, 66, 96, 98, 31, 84, 0]\n",
      "[71, 51, 38, 71, 78, 96, 98, 31, 45, 0]\n"
     ]
    }
   ],
   "source": [
    "import random\n",
    "\n",
    "array = []\n",
    "array1 = []\n",
    "for i in range(0,10):\n",
    "    array.append(random.randint(0,100))\n",
    "    array1.append(random.randint(0,100))\n",
    "print(array, array1)\n",
    "array2 = []\n",
    "for i in range(0, 10):\n",
    "    if i % 2 == 0:\n",
    "      array2.append(array[i])\n",
    "    if i % 2 != 0:\n",
    "      array2.append(array1[i])\n",
    "print(array2)"
   ]
  },
  {
   "cell_type": "code",
   "execution_count": 38,
   "id": "cc98baa3-d733-4065-82fd-3ff1563d89dc",
   "metadata": {},
   "outputs": [
    {
     "name": "stdout",
     "output_type": "stream",
     "text": [
      "[1, 5, 'привет', 3.14, 'пока', 1, 69, 3.14]\n",
      "[1, 5, 'привет', 3.14, 'пока', 69]\n"
     ]
    }
   ],
   "source": [
    "array = [1,5,'привет',3.14,'пока', 1,69,3.14]\n",
    "print(array)\n",
    "array1 = []\n",
    "for i in array:\n",
    "    if i not in array1:\n",
    "        array1.append(i)\n",
    "print(array1)"
   ]
  },
  {
   "cell_type": "code",
   "execution_count": 44,
   "id": "2ded3e23-6807-4121-a859-8191f1dd8b97",
   "metadata": {},
   "outputs": [
    {
     "name": "stdout",
     "output_type": "stream",
     "text": [
      "{'Ключ1': 4, 'Ключ2': 52, 'Ключ3': 4.2, 'Ключ4': 22.8, 'Ключ5': 4}\n",
      "[(4, ['Ключ1', 'Ключ5']), (52, ['Ключ2']), (4.2, ['Ключ3']), (22.8, ['Ключ4'])]\n"
     ]
    }
   ],
   "source": [
    "abcDict = {'Ключ1': 4,'Ключ2': 52,'Ключ3': 4.20,'Ключ4': 22.8,'Ключ5': 4}\n",
    "print(abcDict)\n",
    "array = []\n",
    "unique_value_to_keys = {}\n",
    "for key, value in abcDict.items():\n",
    "    if value not in unique_value_to_keys:\n",
    "        unique_value_to_keys[value] = []\n",
    "    unique_value_to_keys[value].append(key)\n",
    "array = [(value, keys) for value, keys in unique_value_to_keys.items()]\n",
    "print(array)"
   ]
  },
  {
   "cell_type": "code",
   "execution_count": 47,
   "id": "d2b0ab2e-1896-464e-935e-acf16abeb401",
   "metadata": {},
   "outputs": [
    {
     "name": "stdout",
     "output_type": "stream",
     "text": [
      "{'Ключ1': 4, 'Ключ2': 52, 'Ключ3': 4.2, 'Ключ4': 22.8, 'Ключ5': 4} {'Ключ6': 15, 'Ключ7': 52, 'Ключ8': 13.37, 'Ключ9': 22.8, 'Ключ10': 4}\n",
      "{'Ключ1': 4, 'Ключ2': 52, 'Ключ4': 22.8, 'Ключ5': 4, 'Ключ7': 52, 'Ключ9': 22.8, 'Ключ10': 4}\n"
     ]
    }
   ],
   "source": [
    "abcDict = {'Ключ1': 4,'Ключ2': 52,'Ключ3': 4.20,'Ключ4': 22.8,'Ключ5': 4}\n",
    "bcdDict = {'Ключ6': 15,'Ключ7': 52,'Ключ8': 13.37,'Ключ9': 22.8,'Ключ10': 4}\n",
    "print(abcDict, bcdDict)\n",
    "array = []\n",
    "intersection_values = set(abcDict.values()).intersection(bcdDict.values())\n",
    "array = {k: v for k, v in {**abcDict, **bcdDict}.items() if v in intersection_values}\n",
    "print(array)"
   ]
  },
  {
   "cell_type": "code",
   "execution_count": null,
   "id": "08b624d1-d838-4627-9b57-8475812e65e8",
   "metadata": {},
   "outputs": [],
   "source": []
  }
 ],
 "metadata": {
  "kernelspec": {
   "display_name": "Python 3 (ipykernel)",
   "language": "python",
   "name": "python3"
  },
  "language_info": {
   "codemirror_mode": {
    "name": "ipython",
    "version": 3
   },
   "file_extension": ".py",
   "mimetype": "text/x-python",
   "name": "python",
   "nbconvert_exporter": "python",
   "pygments_lexer": "ipython3",
   "version": "3.12.6"
  }
 },
 "nbformat": 4,
 "nbformat_minor": 5
}
