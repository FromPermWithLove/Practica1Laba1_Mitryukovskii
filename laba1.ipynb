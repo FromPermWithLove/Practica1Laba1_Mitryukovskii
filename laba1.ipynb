{
 "cells": [
  {
   "cell_type": "code",
   "execution_count": 2,
   "id": "76c04a66-12bb-4ab0-bafb-6d4d65f3ba77",
   "metadata": {},
   "outputs": [
    {
     "name": "stdout",
     "output_type": "stream",
     "text": [
      "Соседи манула: медведи, бинтуронг\n",
      "{'name': 'Московский зоопарк', 'address': 'Москва, ул. Большая Грузинская, 1', 'phone_number': '+ 7 499 252 29 51', 'open_hour': 8, 'close_hour': 20, 'year_foundation': 1864, 'aviaries': ['медведи', 'манул', 'бинтуронг', 'пингвины', 'антилопы', 'слоны', 'жирафы', 'совы', 'обезьяны']}\n"
     ]
    }
   ],
   "source": [
    "zooDict = {\n",
    "    \"name\": \"Московский зоопарк\",\n",
    "    \"address\": \"Москва, ул. Большая Грузинская, 1\",\n",
    "    \"phone_number\": \"+ 7 499 252 29 51\",\n",
    "    \"open_hour\": 8,\n",
    "    \"close_hour\": 20,\n",
    "    \"year_foundation\": 1864,\n",
    "    \"aviaries\": [\n",
    "        \"медведи\",\n",
    "        \"манул\",\n",
    "        \"бинтуронг\",\n",
    "        \"пингвины\",\n",
    "        \"антилопы\",\n",
    "        \"слоны\",\n",
    "        \"жирафы\",\n",
    "        \"совы\",\n",
    "        \"обезьяны\",\n",
    "    ],\n",
    "}\n",
    "\n",
    "manul = \"манул\"\n",
    "aviaries = 'aviaries'\n",
    "index = zooDict[aviaries].index(manul)\n",
    "print(\"Соседи манула: \" + zooDict[aviaries][index - 1] + \", \"  + zooDict[aviaries][index + 1]);\n",
    "print(zooDict)"
   ]
  }
 ],
 "metadata": {
  "kernelspec": {
   "display_name": "Python 3 (ipykernel)",
   "language": "python",
   "name": "python3"
  },
  "language_info": {
   "codemirror_mode": {
    "name": "ipython",
    "version": 3
   },
   "file_extension": ".py",
   "mimetype": "text/x-python",
   "name": "python",
   "nbconvert_exporter": "python",
   "pygments_lexer": "ipython3",
   "version": "3.12.6"
  }
 },
 "nbformat": 4,
 "nbformat_minor": 5
}
